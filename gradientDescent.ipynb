{
  "nbformat": 4,
  "nbformat_minor": 0,
  "metadata": {
    "colab": {
      "name": "gradientDescent.ipynb",
      "provenance": [],
      "include_colab_link": true
    },
    "kernelspec": {
      "name": "python3",
      "display_name": "Python 3"
    }
  },
  "cells": [
    {
      "cell_type": "markdown",
      "metadata": {
        "id": "view-in-github",
        "colab_type": "text"
      },
      "source": [
        "<a href=\"https://colab.research.google.com/github/WojciechWielgus/DeepLearning/blob/master/gradientDescent.ipynb\" target=\"_parent\"><img src=\"https://colab.research.google.com/assets/colab-badge.svg\" alt=\"Open In Colab\"/></a>"
      ]
    },
    {
      "cell_type": "markdown",
      "metadata": {
        "id": "nSXlToIjUv0c",
        "colab_type": "text"
      },
      "source": [
        "## $L(w) = w^{2}-4w$\n",
        "## $\\frac{dL}{dw} = 2*w-4$"
      ]
    },
    {
      "cell_type": "code",
      "metadata": {
        "id": "aPWrM8F7UjA5",
        "colab_type": "code",
        "colab": {}
      },
      "source": [
        "import matplotlib.pyplot as plt\n",
        "import numpy as np\n",
        "import seaborn as sns\n",
        "sns.set()"
      ],
      "execution_count": 0,
      "outputs": []
    },
    {
      "cell_type": "code",
      "metadata": {
        "id": "tYNgd_-pVOcS",
        "colab_type": "code",
        "colab": {
          "base_uri": "https://localhost:8080/",
          "height": 301
        },
        "outputId": "bcb47238-1386-4950-879e-a6b00ea9933c"
      },
      "source": [
        "w = np.arange(-10,14,0.1)\n",
        "Loss = w**2 - 4*w\n",
        "point = -5\n",
        "\n",
        "plt.plot(w, Loss)\n",
        "plt.plot(point, point**2 - 4*point, 'ro')\n",
        "plt.title('Loss function')"
      ],
      "execution_count": 8,
      "outputs": [
        {
          "output_type": "execute_result",
          "data": {
            "text/plain": [
              "Text(0.5, 1.0, 'Loss function')"
            ]
          },
          "metadata": {
            "tags": []
          },
          "execution_count": 8
        },
        {
          "output_type": "display_data",
          "data": {
            "image/png": "[encoded data removed]",
            "text/plain": [
              "<Figure size 432x288 with 1 Axes>"
            ]
          },
          "metadata": {
            "tags": []
          }
        }
      ]
    },
    {
      "cell_type": "code",
      "metadata": {
        "id": "neUHO_uSVXvU",
        "colab_type": "code",
        "colab": {}
      },
      "source": [
        "def gradientDescent(df=lambda w: 2*w-4, learning_rate=0.01, w_0=-5, max_iters=10000, precision=0.000001):\n",
        "    #licznik iteracji\n",
        "    iters = 0\n",
        "    #kontrola wartosci kroku kolejnego spadku\n",
        "    previous_step_size = 1;\n",
        "\n",
        "    weights = []\n",
        "    while previous_step_size > precision and iters < max_iters:\n",
        "        w_prev = w_0;\n",
        "        w_0 = w_0 - learning_rate * df(w_prev)\n",
        "        previous_step_size = abs(w_0 - w_prev)\n",
        "        iters += 1\n",
        "        weights.append(w_0)\n",
        "        print('Iter #{}: obecny punkt: {}'.format(iters,w_0))\n",
        "\n",
        "    print('Min globalne: {}'.format(w_0))\n",
        "    return weights"
      ],
      "execution_count": 0,
      "outputs": []
    },
    {
      "cell_type": "code",
      "metadata": {
        "id": "en0-M2z_VkyY",
        "colab_type": "code",
        "colab": {
          "base_uri": "https://localhost:8080/",
          "height": 1000
        },
        "outputId": "7a64e57f-028b-49ec-bbeb-395b7a8234cc"
      },
      "source": [
        "weights = gradientDescent(learning_rate=0.1)"
      ],
      "execution_count": 17,
      "outputs": [
        {
          "output_type": "stream",
          "text": [
            "Iter #1: obecny punkt: -3.5999999999999996\n",
            "Iter #2: obecny punkt: -2.4799999999999995\n",
            "Iter #3: obecny punkt: -1.5839999999999996\n",
            "Iter #4: obecny punkt: -0.8671999999999996\n",
            "Iter #5: obecny punkt: -0.2937599999999997\n",
            "Iter #6: obecny punkt: 0.1649920000000003\n",
            "Iter #7: obecny punkt: 0.5319936000000003\n",
            "Iter #8: obecny punkt: 0.8255948800000003\n",
            "Iter #9: obecny punkt: 1.0604759040000002\n",
            "Iter #10: obecny punkt: 1.2483807232000002\n",
            "Iter #11: obecny punkt: 1.39870457856\n",
            "Iter #12: obecny punkt: 1.518963662848\n",
            "Iter #13: obecny punkt: 1.6151709302784\n",
            "Iter #14: obecny punkt: 1.69213674422272\n",
            "Iter #15: obecny punkt: 1.753709395378176\n",
            "Iter #16: obecny punkt: 1.8029675163025407\n",
            "Iter #17: obecny punkt: 1.8423740130420325\n",
            "Iter #18: obecny punkt: 1.873899210433626\n",
            "Iter #19: obecny punkt: 1.8991193683469008\n",
            "Iter #20: obecny punkt: 1.9192954946775207\n",
            "Iter #21: obecny punkt: 1.9354363957420166\n",
            "Iter #22: obecny punkt: 1.9483491165936133\n",
            "Iter #23: obecny punkt: 1.9586792932748907\n",
            "Iter #24: obecny punkt: 1.9669434346199126\n",
            "Iter #25: obecny punkt: 1.97355474769593\n",
            "Iter #26: obecny punkt: 1.9788437981567442\n",
            "Iter #27: obecny punkt: 1.9830750385253952\n",
            "Iter #28: obecny punkt: 1.9864600308203162\n",
            "Iter #29: obecny punkt: 1.9891680246562529\n",
            "Iter #30: obecny punkt: 1.9913344197250022\n",
            "Iter #31: obecny punkt: 1.9930675357800018\n",
            "Iter #32: obecny punkt: 1.9944540286240016\n",
            "Iter #33: obecny punkt: 1.9955632228992013\n",
            "Iter #34: obecny punkt: 1.9964505783193611\n",
            "Iter #35: obecny punkt: 1.9971604626554889\n",
            "Iter #36: obecny punkt: 1.997728370124391\n",
            "Iter #37: obecny punkt: 1.9981826960995128\n",
            "Iter #38: obecny punkt: 1.9985461568796103\n",
            "Iter #39: obecny punkt: 1.9988369255036882\n",
            "Iter #40: obecny punkt: 1.9990695404029506\n",
            "Iter #41: obecny punkt: 1.9992556323223605\n",
            "Iter #42: obecny punkt: 1.9994045058578884\n",
            "Iter #43: obecny punkt: 1.9995236046863107\n",
            "Iter #44: obecny punkt: 1.9996188837490485\n",
            "Iter #45: obecny punkt: 1.9996951069992388\n",
            "Iter #46: obecny punkt: 1.999756085599391\n",
            "Iter #47: obecny punkt: 1.9998048684795129\n",
            "Iter #48: obecny punkt: 1.9998438947836104\n",
            "Iter #49: obecny punkt: 1.9998751158268884\n",
            "Iter #50: obecny punkt: 1.9999000926615107\n",
            "Iter #51: obecny punkt: 1.9999200741292085\n",
            "Iter #52: obecny punkt: 1.9999360593033668\n",
            "Iter #53: obecny punkt: 1.9999488474426934\n",
            "Iter #54: obecny punkt: 1.9999590779541547\n",
            "Iter #55: obecny punkt: 1.9999672623633238\n",
            "Iter #56: obecny punkt: 1.999973809890659\n",
            "Iter #57: obecny punkt: 1.9999790479125272\n",
            "Iter #58: obecny punkt: 1.9999832383300218\n",
            "Iter #59: obecny punkt: 1.9999865906640175\n",
            "Iter #60: obecny punkt: 1.999989272531214\n",
            "Iter #61: obecny punkt: 1.9999914180249712\n",
            "Iter #62: obecny punkt: 1.9999931344199768\n",
            "Iter #63: obecny punkt: 1.9999945075359815\n",
            "Iter #64: obecny punkt: 1.9999956060287851\n",
            "Iter #65: obecny punkt: 1.999996484823028\n",
            "Min globalne: 1.999996484823028\n"
          ],
          "name": "stdout"
        }
      ]
    },
    {
      "cell_type": "code",
      "metadata": {
        "id": "njiViOm5Yxak",
        "colab_type": "code",
        "colab": {
          "base_uri": "https://localhost:8080/",
          "height": 1000
        },
        "outputId": "c80c7ca5-d4a7-413c-ed0d-d0a823c68f60"
      },
      "source": [
        "weights"
      ],
      "execution_count": 18,
      "outputs": [
        {
          "output_type": "execute_result",
          "data": {
            "text/plain": [
              "[-3.5999999999999996,\n",
              " -2.4799999999999995,\n",
              " -1.5839999999999996,\n",
              " -0.8671999999999996,\n",
              " -0.2937599999999997,\n",
              " 0.1649920000000003,\n",
              " 0.5319936000000003,\n",
              " 0.8255948800000003,\n",
              " 1.0604759040000002,\n",
              " 1.2483807232000002,\n",
              " 1.39870457856,\n",
              " 1.518963662848,\n",
              " 1.6151709302784,\n",
              " 1.69213674422272,\n",
              " 1.753709395378176,\n",
              " 1.8029675163025407,\n",
              " 1.8423740130420325,\n",
              " 1.873899210433626,\n",
              " 1.8991193683469008,\n",
              " 1.9192954946775207,\n",
              " 1.9354363957420166,\n",
              " 1.9483491165936133,\n",
              " 1.9586792932748907,\n",
              " 1.9669434346199126,\n",
              " 1.97355474769593,\n",
              " 1.9788437981567442,\n",
              " 1.9830750385253952,\n",
              " 1.9864600308203162,\n",
              " 1.9891680246562529,\n",
              " 1.9913344197250022,\n",
              " 1.9930675357800018,\n",
              " 1.9944540286240016,\n",
              " 1.9955632228992013,\n",
              " 1.9964505783193611,\n",
              " 1.9971604626554889,\n",
              " 1.997728370124391,\n",
              " 1.9981826960995128,\n",
              " 1.9985461568796103,\n",
              " 1.9988369255036882,\n",
              " 1.9990695404029506,\n",
              " 1.9992556323223605,\n",
              " 1.9994045058578884,\n",
              " 1.9995236046863107,\n",
              " 1.9996188837490485,\n",
              " 1.9996951069992388,\n",
              " 1.999756085599391,\n",
              " 1.9998048684795129,\n",
              " 1.9998438947836104,\n",
              " 1.9998751158268884,\n",
              " 1.9999000926615107,\n",
              " 1.9999200741292085,\n",
              " 1.9999360593033668,\n",
              " 1.9999488474426934,\n",
              " 1.9999590779541547,\n",
              " 1.9999672623633238,\n",
              " 1.999973809890659,\n",
              " 1.9999790479125272,\n",
              " 1.9999832383300218,\n",
              " 1.9999865906640175,\n",
              " 1.999989272531214,\n",
              " 1.9999914180249712,\n",
              " 1.9999931344199768,\n",
              " 1.9999945075359815,\n",
              " 1.9999956060287851,\n",
              " 1.999996484823028]"
            ]
          },
          "metadata": {
            "tags": []
          },
          "execution_count": 18
        }
      ]
    },
    {
      "cell_type": "code",
      "metadata": {
        "id": "j3T8k2RpZX2o",
        "colab_type": "code",
        "colab": {
          "base_uri": "https://localhost:8080/",
          "height": 540
        },
        "outputId": "c2021001-0bb5-418e-bcae-ea117798c85a"
      },
      "source": [
        "plt.figure(figsize=(18,9))\n",
        "plt.plot(w, Loss)\n",
        "for weight in weights:\n",
        "    plt.plot(weight, weight**2 - 4 * weight, 'ro')"
      ],
      "execution_count": 23,
      "outputs": [
        {
          "output_type": "display_data",
          "data": {
            "image/png": "[encoded data removed]",
            "text/plain": [
              "<Figure size 1296x648 with 1 Axes>"
            ]
          },
          "metadata": {
            "tags": []
          }
        }
      ]
    },
    {
      "cell_type": "code",
      "metadata": {
        "id": "vbBQGWejZiBS",
        "colab_type": "code",
        "colab": {}
      },
      "source": [
        ""
      ],
      "execution_count": 0,
      "outputs": []
    }
  ]
}