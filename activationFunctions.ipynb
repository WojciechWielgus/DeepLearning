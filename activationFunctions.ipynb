{
  "nbformat": 4,
  "nbformat_minor": 0,
  "metadata": {
    "colab": {
      "name": "activationFunctions.ipynb",
      "provenance": [],
      "include_colab_link": true
    },
    "kernelspec": {
      "name": "python3",
      "display_name": "Python 3"
    }
  },
  "cells": [
    {
      "cell_type": "markdown",
      "metadata": {
        "id": "view-in-github",
        "colab_type": "text"
      },
      "source": [
        "<a href=\"https://colab.research.google.com/github/WojciechWielgus/DeepLearning/blob/master/activationFunctions.ipynb\" target=\"_parent\"><img src=\"https://colab.research.google.com/assets/colab-badge.svg\" alt=\"Open In Colab\"/></a>"
      ]
    },
    {
      "cell_type": "markdown",
      "metadata": {
        "id": "XtQNQvxu2Dlq",
        "colab_type": "text"
      },
      "source": [
        "## Funckje Aktywacji\n",
        "\n",
        "### ReLU Function\n",
        "\n",
        "$f(x) = max(x,0)$ "
      ]
    },
    {
      "cell_type": "code",
      "metadata": {
        "id": "FzpAF2XDSu0n",
        "colab_type": "code",
        "colab": {}
      },
      "source": [
        "import numpy as np\n",
        "import matplotlib.pyplot as plt\n",
        "import seaborn as sns\n",
        "sns.set()"
      ],
      "execution_count": 0,
      "outputs": []
    },
    {
      "cell_type": "code",
      "metadata": {
        "id": "KnFMO_B02wRA",
        "colab_type": "code",
        "colab": {}
      },
      "source": [
        "def max_relu(x):\n",
        "    return max(x, 0)"
      ],
      "execution_count": 0,
      "outputs": []
    },
    {
      "cell_type": "code",
      "metadata": {
        "id": "mXBqFZGc24VA",
        "colab_type": "code",
        "outputId": "58a93334-4923-4cac-a92f-6ba9c84a9c71",
        "colab": {
          "base_uri": "https://localhost:8080/",
          "height": 104
        }
      },
      "source": [
        "for i in [-10, -5 , 0 , 5, 10]:\n",
        "    print(max_relu(i))"
      ],
      "execution_count": 0,
      "outputs": [
        {
          "output_type": "stream",
          "text": [
            "0\n",
            "0\n",
            "0\n",
            "5\n",
            "10\n"
          ],
          "name": "stdout"
        }
      ]
    },
    {
      "cell_type": "code",
      "metadata": {
        "id": "mtUVqkxB2_Zh",
        "colab_type": "code",
        "outputId": "9e6111cd-ad78-4880-d844-2365895755ea",
        "colab": {
          "base_uri": "https://localhost:8080/",
          "height": 301
        }
      },
      "source": [
        "data = np.arange(-5,5,0.1)\n",
        "max_relu_data = [max_relu(x) for x in data]\n",
        "\n",
        "plt.plot(data,max_relu_data)\n",
        "plt.title('ReLU Function')"
      ],
      "execution_count": 0,
      "outputs": [
        {
          "output_type": "execute_result",
          "data": {
            "text/plain": [
              "Text(0.5, 1.0, 'ReLU Function')"
            ]
          },
          "metadata": {
            "tags": []
          },
          "execution_count": 9
        },
        {
          "output_type": "display_data",
          "data": {
            "image/png": "[encoded data removed]",
            "text/plain": [
              "<Figure size 432x288 with 1 Axes>"
            ]
          },
          "metadata": {
            "tags": []
          }
        }
      ]
    },
    {
      "cell_type": "markdown",
      "metadata": {
        "id": "3_sPY24W3yVu",
        "colab_type": "text"
      },
      "source": [
        "## Sigmoid Function\n",
        "\n",
        "### $f(x) = \\frac{1}{1+e^{-x}}$"
      ]
    },
    {
      "cell_type": "code",
      "metadata": {
        "id": "TGF3TEQN3LzQ",
        "colab_type": "code",
        "colab": {}
      },
      "source": [
        "def sigmoit(x):\n",
        "    return 1.0 / (1.0 + np.exp(-x))"
      ],
      "execution_count": 0,
      "outputs": []
    },
    {
      "cell_type": "code",
      "metadata": {
        "id": "F7Yx44Q74c7U",
        "colab_type": "code",
        "outputId": "2b9bbb54-bd31-460c-e17d-caf3d4d103d6",
        "colab": {
          "base_uri": "https://localhost:8080/",
          "height": 121
        }
      },
      "source": [
        "for i in [-5 , -3, -1, 0 ,1 ,5]:\n",
        "    print(sigmoit(i))"
      ],
      "execution_count": 0,
      "outputs": [
        {
          "output_type": "stream",
          "text": [
            "0.0066928509242848554\n",
            "0.04742587317756678\n",
            "0.2689414213699951\n",
            "0.5\n",
            "0.7310585786300049\n",
            "0.9933071490757153\n"
          ],
          "name": "stdout"
        }
      ]
    },
    {
      "cell_type": "code",
      "metadata": {
        "id": "-h8nJ5Yf4mTM",
        "colab_type": "code",
        "outputId": "263a9698-3638-41d6-9e1b-b9c75508de61",
        "colab": {
          "base_uri": "https://localhost:8080/",
          "height": 301
        }
      },
      "source": [
        "sigmoit_data = [sigmoit(x) for x in data]\n",
        "plt.plot(data, sigmoit_data)\n",
        "plt.title('Sigmoit Function')"
      ],
      "execution_count": 0,
      "outputs": [
        {
          "output_type": "execute_result",
          "data": {
            "text/plain": [
              "Text(0.5, 1.0, 'Sigmoit Function')"
            ]
          },
          "metadata": {
            "tags": []
          },
          "execution_count": 13
        },
        {
          "output_type": "display_data",
          "data": {
            "image/png": "[encoded data removed]",
            "text/plain": [
              "<Figure size 432x288 with 1 Axes>"
            ]
          },
          "metadata": {
            "tags": []
          }
        }
      ]
    },
    {
      "cell_type": "markdown",
      "metadata": {
        "id": "zQVwTPiQ5HpY",
        "colab_type": "text"
      },
      "source": [
        "## Softmax Function\n",
        "### $S(y)$"
      ]
    },
    {
      "cell_type": "code",
      "metadata": {
        "id": "OG4vPA2s4yal",
        "colab_type": "code",
        "outputId": "8115c23b-5d65-4c61-bcc5-79796fc6ef10",
        "colab": {
          "base_uri": "https://localhost:8080/",
          "height": 138
        }
      },
      "source": [
        "data = np.random.randn(3,5)\n",
        "data\n",
        "import pandas as pd\n",
        "df = pd.DataFrame(data)\n",
        "df"
      ],
      "execution_count": 0,
      "outputs": [
        {
          "output_type": "execute_result",
          "data": {
            "text/html": [
              "<div>\n",
              "<style scoped>\n",
              "    .dataframe tbody tr th:only-of-type {\n",
              "        vertical-align: middle;\n",
              "    }\n",
              "\n",
              "    .dataframe tbody tr th {\n",
              "        vertical-align: top;\n",
              "    }\n",
              "\n",
              "    .dataframe thead th {\n",
              "        text-align: right;\n",
              "    }\n",
              "</style>\n",
              "<table border=\"1\" class=\"dataframe\">\n",
              "  <thead>\n",
              "    <tr style=\"text-align: right;\">\n",
              "      <th></th>\n",
              "      <th>0</th>\n",
              "      <th>1</th>\n",
              "      <th>2</th>\n",
              "      <th>3</th>\n",
              "      <th>4</th>\n",
              "    </tr>\n",
              "  </thead>\n",
              "  <tbody>\n",
              "    <tr>\n",
              "      <th>0</th>\n",
              "      <td>1.601785</td>\n",
              "      <td>0.846159</td>\n",
              "      <td>-1.163207</td>\n",
              "      <td>0.457724</td>\n",
              "      <td>-0.328035</td>\n",
              "    </tr>\n",
              "    <tr>\n",
              "      <th>1</th>\n",
              "      <td>-0.746327</td>\n",
              "      <td>1.118964</td>\n",
              "      <td>1.037431</td>\n",
              "      <td>0.250396</td>\n",
              "      <td>0.441173</td>\n",
              "    </tr>\n",
              "    <tr>\n",
              "      <th>2</th>\n",
              "      <td>0.422742</td>\n",
              "      <td>0.825397</td>\n",
              "      <td>-0.160338</td>\n",
              "      <td>0.600240</td>\n",
              "      <td>-0.334511</td>\n",
              "    </tr>\n",
              "  </tbody>\n",
              "</table>\n",
              "</div>"
            ],
            "text/plain": [
              "          0         1         2         3         4\n",
              "0  1.601785  0.846159 -1.163207  0.457724 -0.328035\n",
              "1 -0.746327  1.118964  1.037431  0.250396  0.441173\n",
              "2  0.422742  0.825397 -0.160338  0.600240 -0.334511"
            ]
          },
          "metadata": {
            "tags": []
          },
          "execution_count": 17
        }
      ]
    },
    {
      "cell_type": "code",
      "metadata": {
        "id": "vAh6v7Ct5cf4",
        "colab_type": "code",
        "outputId": "63d08511-ab82-4fd7-b373-64f198e2e96a",
        "colab": {
          "base_uri": "https://localhost:8080/",
          "height": 138
        }
      },
      "source": [
        "res = np.exp(df) / np.sum(np.exp(df), axis = 0)\n",
        "res"
      ],
      "execution_count": 0,
      "outputs": [
        {
          "output_type": "execute_result",
          "data": {
            "text/html": [
              "<div>\n",
              "<style scoped>\n",
              "    .dataframe tbody tr th:only-of-type {\n",
              "        vertical-align: middle;\n",
              "    }\n",
              "\n",
              "    .dataframe tbody tr th {\n",
              "        vertical-align: top;\n",
              "    }\n",
              "\n",
              "    .dataframe thead th {\n",
              "        text-align: right;\n",
              "    }\n",
              "</style>\n",
              "<table border=\"1\" class=\"dataframe\">\n",
              "  <thead>\n",
              "    <tr style=\"text-align: right;\">\n",
              "      <th></th>\n",
              "      <th>0</th>\n",
              "      <th>1</th>\n",
              "      <th>2</th>\n",
              "      <th>3</th>\n",
              "      <th>4</th>\n",
              "    </tr>\n",
              "  </thead>\n",
              "  <tbody>\n",
              "    <tr>\n",
              "      <th>0</th>\n",
              "      <td>0.712696</td>\n",
              "      <td>0.303666</td>\n",
              "      <td>0.078389</td>\n",
              "      <td>0.337163</td>\n",
              "      <td>0.240871</td>\n",
              "    </tr>\n",
              "    <tr>\n",
              "      <th>1</th>\n",
              "      <td>0.068098</td>\n",
              "      <td>0.398908</td>\n",
              "      <td>0.707915</td>\n",
              "      <td>0.274030</td>\n",
              "      <td>0.519813</td>\n",
              "    </tr>\n",
              "    <tr>\n",
              "      <th>2</th>\n",
              "      <td>0.219206</td>\n",
              "      <td>0.297426</td>\n",
              "      <td>0.213696</td>\n",
              "      <td>0.388807</td>\n",
              "      <td>0.239316</td>\n",
              "    </tr>\n",
              "  </tbody>\n",
              "</table>\n",
              "</div>"
            ],
            "text/plain": [
              "          0         1         2         3         4\n",
              "0  0.712696  0.303666  0.078389  0.337163  0.240871\n",
              "1  0.068098  0.398908  0.707915  0.274030  0.519813\n",
              "2  0.219206  0.297426  0.213696  0.388807  0.239316"
            ]
          },
          "metadata": {
            "tags": []
          },
          "execution_count": 25
        }
      ]
    },
    {
      "cell_type": "code",
      "metadata": {
        "id": "HlLP1n2K59fF",
        "colab_type": "code",
        "outputId": "68d218aa-2368-476f-d517-4df7af6352c2",
        "colab": {
          "base_uri": "https://localhost:8080/",
          "height": 121
        }
      },
      "source": [
        "np.sum(res, axis = 0)"
      ],
      "execution_count": 0,
      "outputs": [
        {
          "output_type": "execute_result",
          "data": {
            "text/plain": [
              "0    1.0\n",
              "1    1.0\n",
              "2    1.0\n",
              "3    1.0\n",
              "4    1.0\n",
              "dtype: float64"
            ]
          },
          "metadata": {
            "tags": []
          },
          "execution_count": 24
        }
      ]
    },
    {
      "cell_type": "markdown",
      "metadata": {
        "id": "tUb6BHIH7JEe",
        "colab_type": "text"
      },
      "source": [
        "## Tan h\n",
        "### $tanh(x) = \\frac{e^{x} - e^{-x}}{e^{x} + e^{-x}}$"
      ]
    },
    {
      "cell_type": "code",
      "metadata": {
        "id": "DWHXYa5Z6Rd-",
        "colab_type": "code",
        "colab": {}
      },
      "source": [
        "def tanh(x):\n",
        "    return (np.exp(x) - np.exp(-x)) / (np.exp(x)+np.exp(-x))"
      ],
      "execution_count": 0,
      "outputs": []
    },
    {
      "cell_type": "code",
      "metadata": {
        "id": "0HVyMKO57pjB",
        "colab_type": "code",
        "outputId": "202107ed-fc77-406b-b189-8d5fded0ee19",
        "colab": {
          "base_uri": "https://localhost:8080/",
          "height": 104
        }
      },
      "source": [
        "for i in [-2, -1 , 0 , 1, 2]:\n",
        "    print(tanh(i))"
      ],
      "execution_count": 0,
      "outputs": [
        {
          "output_type": "stream",
          "text": [
            "-0.964027580075817\n",
            "-0.7615941559557649\n",
            "0.0\n",
            "0.7615941559557649\n",
            "0.964027580075817\n"
          ],
          "name": "stdout"
        }
      ]
    },
    {
      "cell_type": "code",
      "metadata": {
        "id": "d1ZzRpz98AIZ",
        "colab_type": "code",
        "outputId": "e57d979b-5fc9-47ac-e9e3-de3c23762cb1",
        "colab": {
          "base_uri": "https://localhost:8080/",
          "height": 301
        }
      },
      "source": [
        "data = np.arange(-5,5,0.1)\n",
        "tanh_data = [tanh(x) for x in data]\n",
        "\n",
        "plt.plot(data, tanh_data)\n",
        "plt.title('Tanh Function')"
      ],
      "execution_count": 0,
      "outputs": [
        {
          "output_type": "execute_result",
          "data": {
            "text/plain": [
              "Text(0.5, 1.0, 'Tanh Function')"
            ]
          },
          "metadata": {
            "tags": []
          },
          "execution_count": 32
        },
        {
          "output_type": "display_data",
          "data": {
            "image/png": "[encoded data removed]",
            "text/plain": [
              "<Figure size 432x288 with 1 Axes>"
            ]
          },
          "metadata": {
            "tags": []
          }
        }
      ]
    },
    {
      "cell_type": "code",
      "metadata": {
        "id": "FySni1WY8LiD",
        "colab_type": "code",
        "colab": {}
      },
      "source": [
        ""
      ],
      "execution_count": 0,
      "outputs": []
    }
  ]
}