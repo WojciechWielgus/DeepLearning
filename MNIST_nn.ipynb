{
  "nbformat": 4,
  "nbformat_minor": 0,
  "metadata": {
    "colab": {
      "name": "MNIST_nn.ipynb",
      "provenance": [],
      "include_colab_link": true
    },
    "kernelspec": {
      "name": "python3",
      "display_name": "Python 3"
    }
  },
  "cells": [
    {
      "cell_type": "markdown",
      "metadata": {
        "id": "view-in-github",
        "colab_type": "text"
      },
      "source": [
        "<a href=\"https://colab.research.google.com/github/WojciechWielgus/DeepLearning/blob/master/MNIST_nn.ipynb\" target=\"_parent\"><img src=\"https://colab.research.google.com/assets/colab-badge.svg\" alt=\"Open In Colab\"/></a>"
      ]
    },
    {
      "cell_type": "markdown",
      "metadata": {
        "id": "hJeJBQxLBUJg",
        "colab_type": "text"
      },
      "source": [
        "###Multilayer Perceptron"
      ]
    },
    {
      "cell_type": "code",
      "metadata": {
        "id": "zJ8GdJZQASum",
        "colab_type": "code",
        "colab": {}
      },
      "source": [
        "import keras\n",
        "from keras.datasets import mnist\n",
        "from keras.models import Sequential\n",
        "from keras.layers import Dense\n",
        "from keras.optimizers import RMSprop"
      ],
      "execution_count": 0,
      "outputs": []
    },
    {
      "cell_type": "markdown",
      "metadata": {
        "id": "WsIFGi28CkaX",
        "colab_type": "text"
      },
      "source": [
        "### Loading data"
      ]
    },
    {
      "cell_type": "code",
      "metadata": {
        "id": "9L18fTyjCgTo",
        "colab_type": "code",
        "colab": {
          "base_uri": "https://localhost:8080/",
          "height": 52
        },
        "outputId": "35e0026d-561e-4fdc-a779-df837731fd1e"
      },
      "source": [
        "(X_train, y_train), (X_test, y_test) = mnist.load_data()"
      ],
      "execution_count": 3,
      "outputs": [
        {
          "output_type": "stream",
          "text": [
            "Downloading data from https://s3.amazonaws.com/img-datasets/mnist.npz\n",
            "11493376/11490434 [==============================] - 1s 0us/step\n"
          ],
          "name": "stdout"
        }
      ]
    },
    {
      "cell_type": "markdown",
      "metadata": {
        "id": "5k6mnMJGDBgk",
        "colab_type": "text"
      },
      "source": [
        "###Eksploracja danych"
      ]
    },
    {
      "cell_type": "code",
      "metadata": {
        "id": "vlmW09_oCw4o",
        "colab_type": "code",
        "colab": {
          "base_uri": "https://localhost:8080/",
          "height": 104
        },
        "outputId": "2eb6cc5a-0c3d-4708-ace5-bbedb46dc45e"
      },
      "source": [
        "print(X_train.shape)\n",
        "print(X_test.shape)\n",
        "print(y_train.shape)\n",
        "print(y_test.shape)\n",
        "\n",
        "print('Liczba danych treningowych', X_train.shape[0])"
      ],
      "execution_count": 7,
      "outputs": [
        {
          "output_type": "stream",
          "text": [
            "(60000, 28, 28)\n",
            "(10000, 28, 28)\n",
            "(60000,)\n",
            "(10000,)\n",
            "Liczba danych treningowych 60000\n"
          ],
          "name": "stdout"
        }
      ]
    },
    {
      "cell_type": "code",
      "metadata": {
        "id": "GV2npRIfDUFJ",
        "colab_type": "code",
        "colab": {
          "base_uri": "https://localhost:8080/",
          "height": 265
        },
        "outputId": "a76cdff1-37c1-4ea6-8936-4178535da4a3"
      },
      "source": [
        "import matplotlib.pyplot as plt\n",
        "plt.imshow(X_train[0], cmap='Greys')\n",
        "plt.axis('off')"
      ],
      "execution_count": 11,
      "outputs": [
        {
          "output_type": "execute_result",
          "data": {
            "text/plain": [
              "(-0.5, 27.5, 27.5, -0.5)"
            ]
          },
          "metadata": {
            "tags": []
          },
          "execution_count": 11
        },
        {
          "output_type": "display_data",
          "data": {
            "image/png": "[encoded data removed]",
            "text/plain": [
              "<Figure size 432x288 with 1 Axes>"
            ]
          },
          "metadata": {
            "tags": []
          }
        }
      ]
    },
    {
      "cell_type": "markdown",
      "metadata": {
        "id": "x5PXt2PBEdLN",
        "colab_type": "text"
      },
      "source": [
        "### Wyświetlenie kilku obrazków"
      ]
    },
    {
      "cell_type": "code",
      "metadata": {
        "id": "0ALc0FJzD89q",
        "colab_type": "code",
        "colab": {
          "base_uri": "https://localhost:8080/",
          "height": 78
        },
        "outputId": "44439845-9f24-48a2-8a77-d00ecbfc0f27"
      },
      "source": [
        "plt.figure(figsize=(10,10))\n",
        "for i in range(1,11):\n",
        "    plt.subplot(1, 10, i)\n",
        "    plt.axis('off')\n",
        "    plt.imshow(X_train[i], cmap='Greys')\n",
        "plt.show()"
      ],
      "execution_count": 12,
      "outputs": [
        {
          "output_type": "display_data",
          "data": {
            "image/png": "[encoded data removed]",
            "text/plain": [
              "<Figure size 720x720 with 10 Axes>"
            ]
          },
          "metadata": {
            "tags": []
          }
        }
      ]
    },
    {
      "cell_type": "markdown",
      "metadata": {
        "id": "WIgPaZqgFMfg",
        "colab_type": "text"
      },
      "source": [
        "###Etykiety"
      ]
    },
    {
      "cell_type": "code",
      "metadata": {
        "id": "fSCGhWFPFDEU",
        "colab_type": "code",
        "colab": {
          "base_uri": "https://localhost:8080/",
          "height": 34
        },
        "outputId": "ffbf1734-c697-478a-c32f-ccafc2e67282"
      },
      "source": [
        "y_train"
      ],
      "execution_count": 13,
      "outputs": [
        {
          "output_type": "execute_result",
          "data": {
            "text/plain": [
              "array([5, 0, 4, ..., 5, 6, 8], dtype=uint8)"
            ]
          },
          "metadata": {
            "tags": []
          },
          "execution_count": 13
        }
      ]
    },
    {
      "cell_type": "markdown",
      "metadata": {
        "id": "fTpFhPdIGkNN",
        "colab_type": "text"
      },
      "source": [
        "### Przygotowanie Danych"
      ]
    },
    {
      "cell_type": "code",
      "metadata": {
        "id": "BeRnm7wgFO9X",
        "colab_type": "code",
        "colab": {}
      },
      "source": [
        "X_train = X_train.reshape(60000, 28*28)\n",
        "X_test = X_test.reshape(10000, 28*28)\n",
        "\n",
        "X_train = X_train.astype('float32')\n",
        "X_test = X_test.astype('float32')\n",
        "\n",
        "X_train = X_train / 255\n",
        "X_test = X_test / 255"
      ],
      "execution_count": 0,
      "outputs": []
    },
    {
      "cell_type": "code",
      "metadata": {
        "id": "nb9hLPxuGZYn",
        "colab_type": "code",
        "colab": {}
      },
      "source": [
        "y_train = keras.utils.to_categorical(y_train, num_classes=10)\n",
        "y_test = keras.utils.to_categorical(y_test, num_classes=10)"
      ],
      "execution_count": 0,
      "outputs": []
    },
    {
      "cell_type": "code",
      "metadata": {
        "id": "aSn18AewGbYK",
        "colab_type": "code",
        "colab": {
          "base_uri": "https://localhost:8080/",
          "height": 34
        },
        "outputId": "6cb991ca-a343-423e-b5f6-970455bb179b"
      },
      "source": [
        "y_train[0]"
      ],
      "execution_count": 21,
      "outputs": [
        {
          "output_type": "execute_result",
          "data": {
            "text/plain": [
              "array([0., 0., 0., 0., 0., 1., 0., 0., 0., 0.], dtype=float32)"
            ]
          },
          "metadata": {
            "tags": []
          },
          "execution_count": 21
        }
      ]
    },
    {
      "cell_type": "markdown",
      "metadata": {
        "id": "48EOh5yZMWcL",
        "colab_type": "text"
      },
      "source": [
        "### Budowa Modelu\n"
      ]
    },
    {
      "cell_type": "code",
      "metadata": {
        "id": "MYoJ4MjRH12r",
        "colab_type": "code",
        "colab": {
          "base_uri": "https://localhost:8080/",
          "height": 383
        },
        "outputId": "b5cd8268-2672-472d-964b-1babea93832a"
      },
      "source": [
        "model = Sequential()\n",
        "model.add(Dense(units=512, activation='relu', input_shape=(28*28,)))\n",
        "model.add(Dense(units=512, activation='relu'))\n",
        "model.add(Dense(units=10, activation='softmax'))\n",
        "\n",
        "model.summary()"
      ],
      "execution_count": 22,
      "outputs": [
        {
          "output_type": "stream",
          "text": [
            "WARNING:tensorflow:From /usr/local/lib/python3.6/dist-packages/keras/backend/tensorflow_backend.py:66: The name tf.get_default_graph is deprecated. Please use tf.compat.v1.get_default_graph instead.\n",
            "\n",
            "WARNING:tensorflow:From /usr/local/lib/python3.6/dist-packages/keras/backend/tensorflow_backend.py:541: The name tf.placeholder is deprecated. Please use tf.compat.v1.placeholder instead.\n",
            "\n",
            "WARNING:tensorflow:From /usr/local/lib/python3.6/dist-packages/keras/backend/tensorflow_backend.py:4432: The name tf.random_uniform is deprecated. Please use tf.random.uniform instead.\n",
            "\n",
            "Model: \"sequential_1\"\n",
            "_________________________________________________________________\n",
            "Layer (type)                 Output Shape              Param #   \n",
            "=================================================================\n",
            "dense_1 (Dense)              (None, 512)               401920    \n",
            "_________________________________________________________________\n",
            "dense_2 (Dense)              (None, 512)               262656    \n",
            "_________________________________________________________________\n",
            "dense_3 (Dense)              (None, 10)                5130      \n",
            "=================================================================\n",
            "Total params: 669,706\n",
            "Trainable params: 669,706\n",
            "Non-trainable params: 0\n",
            "_________________________________________________________________\n"
          ],
          "name": "stdout"
        }
      ]
    },
    {
      "cell_type": "code",
      "metadata": {
        "id": "PxySnDOmPhte",
        "colab_type": "code",
        "colab": {
          "base_uri": "https://localhost:8080/",
          "height": 106
        },
        "outputId": "9b016b59-d064-44e3-f773-7da75bae8f59"
      },
      "source": [
        "model.compile(optimizer=RMSprop(), loss='categorical_crossentropy', metrics=['accuracy'])"
      ],
      "execution_count": 23,
      "outputs": [
        {
          "output_type": "stream",
          "text": [
            "WARNING:tensorflow:From /usr/local/lib/python3.6/dist-packages/keras/optimizers.py:793: The name tf.train.Optimizer is deprecated. Please use tf.compat.v1.train.Optimizer instead.\n",
            "\n",
            "WARNING:tensorflow:From /usr/local/lib/python3.6/dist-packages/keras/backend/tensorflow_backend.py:3576: The name tf.log is deprecated. Please use tf.math.log instead.\n",
            "\n"
          ],
          "name": "stdout"
        }
      ]
    },
    {
      "cell_type": "markdown",
      "metadata": {
        "id": "IBzxfIv2Qaxk",
        "colab_type": "text"
      },
      "source": [
        "### Trenowanie modelu"
      ]
    },
    {
      "cell_type": "code",
      "metadata": {
        "id": "ihI4LpP3QYf5",
        "colab_type": "code",
        "colab": {
          "base_uri": "https://localhost:8080/",
          "height": 1000
        },
        "outputId": "4346eaac-3dc6-4eed-98e1-134f1b67a907"
      },
      "source": [
        "history = model.fit(X_train, y_train, batch_size=128, epochs=20, validation_data=(X_test, y_test))"
      ],
      "execution_count": 24,
      "outputs": [
        {
          "output_type": "stream",
          "text": [
            "WARNING:tensorflow:From /usr/local/lib/python3.6/dist-packages/tensorflow_core/python/ops/math_grad.py:1424: where (from tensorflow.python.ops.array_ops) is deprecated and will be removed in a future version.\n",
            "Instructions for updating:\n",
            "Use tf.where in 2.0, which has the same broadcast rule as np.where\n",
            "WARNING:tensorflow:From /usr/local/lib/python3.6/dist-packages/keras/backend/tensorflow_backend.py:1033: The name tf.assign_add is deprecated. Please use tf.compat.v1.assign_add instead.\n",
            "\n",
            "WARNING:tensorflow:From /usr/local/lib/python3.6/dist-packages/keras/backend/tensorflow_backend.py:1020: The name tf.assign is deprecated. Please use tf.compat.v1.assign instead.\n",
            "\n",
            "WARNING:tensorflow:From /usr/local/lib/python3.6/dist-packages/keras/backend/tensorflow_backend.py:3005: The name tf.Session is deprecated. Please use tf.compat.v1.Session instead.\n",
            "\n",
            "Train on 60000 samples, validate on 10000 samples\n",
            "Epoch 1/20\n",
            "WARNING:tensorflow:From /usr/local/lib/python3.6/dist-packages/keras/backend/tensorflow_backend.py:190: The name tf.get_default_session is deprecated. Please use tf.compat.v1.get_default_session instead.\n",
            "\n",
            "WARNING:tensorflow:From /usr/local/lib/python3.6/dist-packages/keras/backend/tensorflow_backend.py:197: The name tf.ConfigProto is deprecated. Please use tf.compat.v1.ConfigProto instead.\n",
            "\n",
            "WARNING:tensorflow:From /usr/local/lib/python3.6/dist-packages/keras/backend/tensorflow_backend.py:207: The name tf.global_variables is deprecated. Please use tf.compat.v1.global_variables instead.\n",
            "\n",
            "WARNING:tensorflow:From /usr/local/lib/python3.6/dist-packages/keras/backend/tensorflow_backend.py:216: The name tf.is_variable_initialized is deprecated. Please use tf.compat.v1.is_variable_initialized instead.\n",
            "\n",
            "WARNING:tensorflow:From /usr/local/lib/python3.6/dist-packages/keras/backend/tensorflow_backend.py:223: The name tf.variables_initializer is deprecated. Please use tf.compat.v1.variables_initializer instead.\n",
            "\n",
            "60000/60000 [==============================] - 8s 129us/step - loss: 0.2195 - acc: 0.9323 - val_loss: 0.1012 - val_acc: 0.9665\n",
            "Epoch 2/20\n",
            "60000/60000 [==============================] - 7s 117us/step - loss: 0.0834 - acc: 0.9738 - val_loss: 0.0847 - val_acc: 0.9732\n",
            "Epoch 3/20\n",
            "60000/60000 [==============================] - 7s 116us/step - loss: 0.0550 - acc: 0.9828 - val_loss: 0.0777 - val_acc: 0.9780\n",
            "Epoch 4/20\n",
            "60000/60000 [==============================] - 7s 115us/step - loss: 0.0419 - acc: 0.9878 - val_loss: 0.0787 - val_acc: 0.9793\n",
            "Epoch 5/20\n",
            "60000/60000 [==============================] - 7s 117us/step - loss: 0.0304 - acc: 0.9906 - val_loss: 0.1014 - val_acc: 0.9768\n",
            "Epoch 6/20\n",
            "60000/60000 [==============================] - 7s 118us/step - loss: 0.0241 - acc: 0.9926 - val_loss: 0.0804 - val_acc: 0.9813\n",
            "Epoch 7/20\n",
            "60000/60000 [==============================] - 7s 118us/step - loss: 0.0203 - acc: 0.9938 - val_loss: 0.1015 - val_acc: 0.9805\n",
            "Epoch 8/20\n",
            "60000/60000 [==============================] - 7s 115us/step - loss: 0.0184 - acc: 0.9945 - val_loss: 0.1070 - val_acc: 0.9795\n",
            "Epoch 9/20\n",
            "60000/60000 [==============================] - 7s 116us/step - loss: 0.0149 - acc: 0.9959 - val_loss: 0.1081 - val_acc: 0.9805\n",
            "Epoch 10/20\n",
            "60000/60000 [==============================] - 7s 110us/step - loss: 0.0129 - acc: 0.9963 - val_loss: 0.0993 - val_acc: 0.9816\n",
            "Epoch 11/20\n",
            "60000/60000 [==============================] - 7s 109us/step - loss: 0.0118 - acc: 0.9966 - val_loss: 0.1112 - val_acc: 0.9828\n",
            "Epoch 12/20\n",
            "60000/60000 [==============================] - 6s 107us/step - loss: 0.0114 - acc: 0.9966 - val_loss: 0.0922 - val_acc: 0.9836\n",
            "Epoch 13/20\n",
            "60000/60000 [==============================] - 7s 110us/step - loss: 0.0086 - acc: 0.9973 - val_loss: 0.1209 - val_acc: 0.9795\n",
            "Epoch 14/20\n",
            "60000/60000 [==============================] - 7s 110us/step - loss: 0.0089 - acc: 0.9977 - val_loss: 0.1324 - val_acc: 0.9809\n",
            "Epoch 15/20\n",
            "60000/60000 [==============================] - 7s 108us/step - loss: 0.0077 - acc: 0.9979 - val_loss: 0.1205 - val_acc: 0.9835\n",
            "Epoch 16/20\n",
            "60000/60000 [==============================] - 6s 106us/step - loss: 0.0077 - acc: 0.9978 - val_loss: 0.1378 - val_acc: 0.9787\n",
            "Epoch 17/20\n",
            "60000/60000 [==============================] - 7s 109us/step - loss: 0.0070 - acc: 0.9983 - val_loss: 0.1252 - val_acc: 0.9833\n",
            "Epoch 18/20\n",
            "60000/60000 [==============================] - 6s 107us/step - loss: 0.0065 - acc: 0.9985 - val_loss: 0.1370 - val_acc: 0.9825\n",
            "Epoch 19/20\n",
            "60000/60000 [==============================] - 6s 106us/step - loss: 0.0061 - acc: 0.9984 - val_loss: 0.1341 - val_acc: 0.9834\n",
            "Epoch 20/20\n",
            "60000/60000 [==============================] - 6s 102us/step - loss: 0.0050 - acc: 0.9986 - val_loss: 0.1209 - val_acc: 0.9850\n"
          ],
          "name": "stdout"
        }
      ]
    },
    {
      "cell_type": "code",
      "metadata": {
        "id": "uZk2X6fKRF6T",
        "colab_type": "code",
        "colab": {
          "base_uri": "https://localhost:8080/",
          "height": 1000
        },
        "outputId": "cafd614a-d9cd-4339-ff09-3790689922de"
      },
      "source": [
        "history.history"
      ],
      "execution_count": 26,
      "outputs": [
        {
          "output_type": "execute_result",
          "data": {
            "text/plain": [
              "{'acc': [0.9323,\n",
              "  0.9737666666348775,\n",
              "  0.9828166666984558,\n",
              "  0.9878166666984558,\n",
              "  0.9905500000317892,\n",
              "  0.9926166666666667,\n",
              "  0.9938166666666667,\n",
              "  0.9945166666348775,\n",
              "  0.9958666666348776,\n",
              "  0.99635,\n",
              "  0.9966166666666667,\n",
              "  0.9966,\n",
              "  0.9973333333333333,\n",
              "  0.9976666666348776,\n",
              "  0.9979,\n",
              "  0.9978333333015442,\n",
              "  0.9983166666666666,\n",
              "  0.9984833333333333,\n",
              "  0.9984,\n",
              "  0.99855],\n",
              " 'loss': [0.21953367554744085,\n",
              "  0.08339450894097487,\n",
              "  0.0549530329224964,\n",
              "  0.04194569953431686,\n",
              "  0.030357891877430182,\n",
              "  0.024063151951289424,\n",
              "  0.020305849059391767,\n",
              "  0.018415974520664895,\n",
              "  0.014850463217679256,\n",
              "  0.012877607114009152,\n",
              "  0.011763381809309552,\n",
              "  0.011353678616246423,\n",
              "  0.008634238901295976,\n",
              "  0.00885988744126383,\n",
              "  0.007686411422292228,\n",
              "  0.007703445691557408,\n",
              "  0.006985432797233322,\n",
              "  0.006478651451642964,\n",
              "  0.006056116723447091,\n",
              "  0.005007801916413367],\n",
              " 'val_acc': [0.9665,\n",
              "  0.9732,\n",
              "  0.978,\n",
              "  0.9793,\n",
              "  0.9768,\n",
              "  0.9813,\n",
              "  0.9805,\n",
              "  0.9795,\n",
              "  0.9805,\n",
              "  0.9816,\n",
              "  0.9828,\n",
              "  0.9836,\n",
              "  0.9795,\n",
              "  0.9809,\n",
              "  0.9835,\n",
              "  0.9787,\n",
              "  0.9833,\n",
              "  0.9825,\n",
              "  0.9834,\n",
              "  0.985],\n",
              " 'val_loss': [0.10118366632610559,\n",
              "  0.0846875124052167,\n",
              "  0.07773216765550897,\n",
              "  0.07872646428123116,\n",
              "  0.10136899361202958,\n",
              "  0.08044588680158049,\n",
              "  0.10151670287745619,\n",
              "  0.10696563014767307,\n",
              "  0.1081264462132182,\n",
              "  0.09932291852627109,\n",
              "  0.11120254373449061,\n",
              "  0.09223076606005197,\n",
              "  0.1209305961064827,\n",
              "  0.13243729442987823,\n",
              "  0.12047724861786027,\n",
              "  0.13782439653469483,\n",
              "  0.12521840322732897,\n",
              "  0.13701405435011366,\n",
              "  0.13405795512765745,\n",
              "  0.12092222115875556]}"
            ]
          },
          "metadata": {
            "tags": []
          },
          "execution_count": 26
        }
      ]
    },
    {
      "cell_type": "code",
      "metadata": {
        "id": "ei3Kd8xVSK6M",
        "colab_type": "code",
        "colab": {}
      },
      "source": [
        ""
      ],
      "execution_count": 0,
      "outputs": []
    }
  ]
}