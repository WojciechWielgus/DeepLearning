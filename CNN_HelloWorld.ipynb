{
  "nbformat": 4,
  "nbformat_minor": 0,
  "metadata": {
    "colab": {
      "name": "CNN_HelloWorld.ipynb",
      "provenance": [],
      "collapsed_sections": [],
      "include_colab_link": true
    },
    "kernelspec": {
      "name": "python3",
      "display_name": "Python 3"
    },
    "accelerator": "GPU"
  },
  "cells": [
    {
      "cell_type": "markdown",
      "metadata": {
        "id": "view-in-github",
        "colab_type": "text"
      },
      "source": [
        "<a href=\"https://colab.research.google.com/github/WojciechWielgus/DeepLearning/blob/master/CNN_HelloWorld.ipynb\" target=\"_parent\"><img src=\"https://colab.research.google.com/assets/colab-badge.svg\" alt=\"Open In Colab\"/></a>"
      ]
    },
    {
      "cell_type": "markdown",
      "metadata": {
        "id": "E0qsrd7IlSUL",
        "colab_type": "text"
      },
      "source": [
        "Konwolucyjna Sieć Neuronowa - MNIST"
      ]
    },
    {
      "cell_type": "code",
      "metadata": {
        "id": "IeATpEbGlQDc",
        "colab_type": "code",
        "colab": {
          "base_uri": "https://localhost:8080/",
          "height": 80
        },
        "outputId": "7e810f6a-64be-42d4-eb04-8913a2ae2fdb"
      },
      "source": [
        "import keras\n",
        "from keras.datasets import mnist\n",
        "from keras.models import Sequential\n",
        "from keras.layers import Dense, Flatten, Conv2D, MaxPooling2D"
      ],
      "execution_count": 3,
      "outputs": [
        {
          "output_type": "stream",
          "text": [
            "Using TensorFlow backend.\n"
          ],
          "name": "stderr"
        },
        {
          "output_type": "display_data",
          "data": {
            "text/html": [
              "<p style=\"color: red;\">\n",
              "The default version of TensorFlow in Colab will soon switch to TensorFlow 2.x.<br>\n",
              "We recommend you <a href=\"https://www.tensorflow.org/guide/migrate\" target=\"_blank\">upgrade</a> now \n",
              "or ensure your notebook will continue to use TensorFlow 1.x via the <code>%tensorflow_version 1.x</code> magic:\n",
              "<a href=\"https://colab.research.google.com/notebooks/tensorflow_version.ipynb\" target=\"_blank\">more info</a>.</p>\n"
            ],
            "text/plain": [
              "<IPython.core.display.HTML object>"
            ]
          },
          "metadata": {
            "tags": []
          }
        }
      ]
    },
    {
      "cell_type": "code",
      "metadata": {
        "id": "MqYcpZeuloDn",
        "colab_type": "code",
        "colab": {
          "base_uri": "https://localhost:8080/",
          "height": 52
        },
        "outputId": "273f2e14-1483-4272-a045-5582837fcf9a"
      },
      "source": [
        "(X_train, y_train), (X_test, y_test) = mnist.load_data()"
      ],
      "execution_count": 4,
      "outputs": [
        {
          "output_type": "stream",
          "text": [
            "Downloading data from https://s3.amazonaws.com/img-datasets/mnist.npz\n",
            "11493376/11490434 [==============================] - 1s 0us/step\n"
          ],
          "name": "stdout"
        }
      ]
    },
    {
      "cell_type": "code",
      "metadata": {
        "id": "eTOx7uHIl6cQ",
        "colab_type": "code",
        "colab": {
          "base_uri": "https://localhost:8080/",
          "height": 104
        },
        "outputId": "536c990d-6db9-45c5-8755-df8e092922af"
      },
      "source": [
        "print(X_train.shape)\n",
        "print(X_test.shape)\n",
        "print(y_train.shape)\n",
        "print(y_test.shape)\n",
        "\n",
        "print('Liczba danych treningowych', X_train.shape[0])"
      ],
      "execution_count": 5,
      "outputs": [
        {
          "output_type": "stream",
          "text": [
            "(60000, 28, 28)\n",
            "(10000, 28, 28)\n",
            "(60000,)\n",
            "(10000,)\n",
            "Liczba danych treningowych 60000\n"
          ],
          "name": "stdout"
        }
      ]
    },
    {
      "cell_type": "code",
      "metadata": {
        "id": "pmN9uGGul-Q4",
        "colab_type": "code",
        "colab": {
          "base_uri": "https://localhost:8080/",
          "height": 34
        },
        "outputId": "386a5dd3-0a7d-4aa2-be69-60f38c943a72"
      },
      "source": [
        "img_rows, img_cols = 28, 28\n",
        "if keras.backend.image_data_format() == 'channel_first':\n",
        "    X_train = X_train.reshape(X_train.shape[0], 1, img_rows, img_cols)\n",
        "    X_test = X_test.reshape(X_test.shape[0], 1, img_rows, img_cols)\n",
        "    input_shape = (1, img_rows, img_cols)\n",
        "else:\n",
        "    X_train = X_train.reshape(X_train.shape[0], img_rows, img_cols, 1)\n",
        "    X_test = X_test.reshape(X_test.shape[0], img_rows, img_cols, 1)\n",
        "    input_shape = (img_rows, img_cols, 1)\n",
        "\n",
        "print('input_shape')"
      ],
      "execution_count": 6,
      "outputs": [
        {
          "output_type": "stream",
          "text": [
            "input_shape\n"
          ],
          "name": "stdout"
        }
      ]
    },
    {
      "cell_type": "code",
      "metadata": {
        "id": "qRonOKCUmntv",
        "colab_type": "code",
        "colab": {}
      },
      "source": [
        "X_train = X_train.astype('float32')\n",
        "X_test = X_test.astype('float32')\n",
        "\n",
        "X_train /= 255\n",
        "X_test /= 255"
      ],
      "execution_count": 0,
      "outputs": []
    },
    {
      "cell_type": "code",
      "metadata": {
        "id": "7telLSrFoJn3",
        "colab_type": "code",
        "colab": {
          "base_uri": "https://localhost:8080/",
          "height": 52
        },
        "outputId": "4a0be36f-08ed-4a3f-ca5a-e4bf1b03398f"
      },
      "source": [
        "y_train = keras.utils.to_categorical(y_train, num_classes=10)\n",
        "y_test = keras.utils.to_categorical(y_test, num_classes=10)\n",
        "\n",
        "print(y_train.shape)\n",
        "print(y_test.shape)"
      ],
      "execution_count": 8,
      "outputs": [
        {
          "output_type": "stream",
          "text": [
            "(60000, 10)\n",
            "(10000, 10)\n"
          ],
          "name": "stdout"
        }
      ]
    },
    {
      "cell_type": "code",
      "metadata": {
        "id": "0kMyMKiwocHy",
        "colab_type": "code",
        "colab": {
          "base_uri": "https://localhost:8080/",
          "height": 190
        },
        "outputId": "528c4af7-0982-4a25-ba7d-c161a27e74d9"
      },
      "source": [
        "y_train[0:10]"
      ],
      "execution_count": 9,
      "outputs": [
        {
          "output_type": "execute_result",
          "data": {
            "text/plain": [
              "array([[0., 0., 0., 0., 0., 1., 0., 0., 0., 0.],\n",
              "       [1., 0., 0., 0., 0., 0., 0., 0., 0., 0.],\n",
              "       [0., 0., 0., 0., 1., 0., 0., 0., 0., 0.],\n",
              "       [0., 1., 0., 0., 0., 0., 0., 0., 0., 0.],\n",
              "       [0., 0., 0., 0., 0., 0., 0., 0., 0., 1.],\n",
              "       [0., 0., 1., 0., 0., 0., 0., 0., 0., 0.],\n",
              "       [0., 1., 0., 0., 0., 0., 0., 0., 0., 0.],\n",
              "       [0., 0., 0., 1., 0., 0., 0., 0., 0., 0.],\n",
              "       [0., 1., 0., 0., 0., 0., 0., 0., 0., 0.],\n",
              "       [0., 0., 0., 0., 1., 0., 0., 0., 0., 0.]], dtype=float32)"
            ]
          },
          "metadata": {
            "tags": []
          },
          "execution_count": 9
        }
      ]
    },
    {
      "cell_type": "markdown",
      "metadata": {
        "id": "iUP_YSbvojvQ",
        "colab_type": "text"
      },
      "source": [
        "### Budowa modelu"
      ]
    },
    {
      "cell_type": "code",
      "metadata": {
        "id": "mnSsCIh9ofWa",
        "colab_type": "code",
        "colab": {
          "base_uri": "https://localhost:8080/",
          "height": 521
        },
        "outputId": "15631206-f71b-41eb-8416-4ace9e76804a"
      },
      "source": [
        "model = Sequential()\n",
        "model.add(Conv2D(filters=32, kernel_size=(3, 3), activation='relu', input_shape=(28, 28, 1)))\n",
        "model.add(Conv2D(filters=64, kernel_size=(3, 3), activation='relu'))\n",
        "model.add(MaxPooling2D(pool_size=(2,2)))\n",
        "model.add(Flatten())\n",
        "model.add(Dense(units=128, activation='relu'))\n",
        "model.add(Dense(units=10, activation='softmax'))\n",
        "\n",
        "model.summary()"
      ],
      "execution_count": 10,
      "outputs": [
        {
          "output_type": "stream",
          "text": [
            "WARNING:tensorflow:From /usr/local/lib/python3.6/dist-packages/keras/backend/tensorflow_backend.py:66: The name tf.get_default_graph is deprecated. Please use tf.compat.v1.get_default_graph instead.\n",
            "\n",
            "WARNING:tensorflow:From /usr/local/lib/python3.6/dist-packages/keras/backend/tensorflow_backend.py:541: The name tf.placeholder is deprecated. Please use tf.compat.v1.placeholder instead.\n",
            "\n",
            "WARNING:tensorflow:From /usr/local/lib/python3.6/dist-packages/keras/backend/tensorflow_backend.py:4432: The name tf.random_uniform is deprecated. Please use tf.random.uniform instead.\n",
            "\n",
            "WARNING:tensorflow:From /usr/local/lib/python3.6/dist-packages/keras/backend/tensorflow_backend.py:4267: The name tf.nn.max_pool is deprecated. Please use tf.nn.max_pool2d instead.\n",
            "\n",
            "Model: \"sequential_1\"\n",
            "_________________________________________________________________\n",
            "Layer (type)                 Output Shape              Param #   \n",
            "=================================================================\n",
            "conv2d_1 (Conv2D)            (None, 26, 26, 32)        320       \n",
            "_________________________________________________________________\n",
            "conv2d_2 (Conv2D)            (None, 24, 24, 64)        18496     \n",
            "_________________________________________________________________\n",
            "max_pooling2d_1 (MaxPooling2 (None, 12, 12, 64)        0         \n",
            "_________________________________________________________________\n",
            "flatten_1 (Flatten)          (None, 9216)              0         \n",
            "_________________________________________________________________\n",
            "dense_1 (Dense)              (None, 128)               1179776   \n",
            "_________________________________________________________________\n",
            "dense_2 (Dense)              (None, 10)                1290      \n",
            "=================================================================\n",
            "Total params: 1,199,882\n",
            "Trainable params: 1,199,882\n",
            "Non-trainable params: 0\n",
            "_________________________________________________________________\n"
          ],
          "name": "stdout"
        }
      ]
    },
    {
      "cell_type": "code",
      "metadata": {
        "id": "pRcvbI6Nq_UK",
        "colab_type": "code",
        "colab": {
          "base_uri": "https://localhost:8080/",
          "height": 106
        },
        "outputId": "eb957d21-92c9-49d6-f03f-cedd9f98d80a"
      },
      "source": [
        "model.compile(optimizer='adadelta', loss='categorical_crossentropy', metrics=['accuracy'])"
      ],
      "execution_count": 11,
      "outputs": [
        {
          "output_type": "stream",
          "text": [
            "WARNING:tensorflow:From /usr/local/lib/python3.6/dist-packages/keras/optimizers.py:793: The name tf.train.Optimizer is deprecated. Please use tf.compat.v1.train.Optimizer instead.\n",
            "\n",
            "WARNING:tensorflow:From /usr/local/lib/python3.6/dist-packages/keras/backend/tensorflow_backend.py:3576: The name tf.log is deprecated. Please use tf.math.log instead.\n",
            "\n"
          ],
          "name": "stdout"
        }
      ]
    },
    {
      "cell_type": "code",
      "metadata": {
        "id": "UgHKjNawruCY",
        "colab_type": "code",
        "colab": {
          "base_uri": "https://localhost:8080/",
          "height": 1000
        },
        "outputId": "7edf3923-6fed-43a7-b380-0df305c35a0f"
      },
      "source": [
        "history = model.fit(X_train, y_train, batch_size=128, epochs=20, validation_data=(X_test, y_test))"
      ],
      "execution_count": 12,
      "outputs": [
        {
          "output_type": "stream",
          "text": [
            "WARNING:tensorflow:From /usr/local/lib/python3.6/dist-packages/tensorflow_core/python/ops/math_grad.py:1424: where (from tensorflow.python.ops.array_ops) is deprecated and will be removed in a future version.\n",
            "Instructions for updating:\n",
            "Use tf.where in 2.0, which has the same broadcast rule as np.where\n",
            "WARNING:tensorflow:From /usr/local/lib/python3.6/dist-packages/keras/backend/tensorflow_backend.py:1033: The name tf.assign_add is deprecated. Please use tf.compat.v1.assign_add instead.\n",
            "\n",
            "WARNING:tensorflow:From /usr/local/lib/python3.6/dist-packages/keras/backend/tensorflow_backend.py:1020: The name tf.assign is deprecated. Please use tf.compat.v1.assign instead.\n",
            "\n",
            "WARNING:tensorflow:From /usr/local/lib/python3.6/dist-packages/keras/backend/tensorflow_backend.py:3005: The name tf.Session is deprecated. Please use tf.compat.v1.Session instead.\n",
            "\n",
            "Train on 60000 samples, validate on 10000 samples\n",
            "Epoch 1/20\n",
            "WARNING:tensorflow:From /usr/local/lib/python3.6/dist-packages/keras/backend/tensorflow_backend.py:190: The name tf.get_default_session is deprecated. Please use tf.compat.v1.get_default_session instead.\n",
            "\n",
            "WARNING:tensorflow:From /usr/local/lib/python3.6/dist-packages/keras/backend/tensorflow_backend.py:197: The name tf.ConfigProto is deprecated. Please use tf.compat.v1.ConfigProto instead.\n",
            "\n",
            "WARNING:tensorflow:From /usr/local/lib/python3.6/dist-packages/keras/backend/tensorflow_backend.py:207: The name tf.global_variables is deprecated. Please use tf.compat.v1.global_variables instead.\n",
            "\n",
            "WARNING:tensorflow:From /usr/local/lib/python3.6/dist-packages/keras/backend/tensorflow_backend.py:216: The name tf.is_variable_initialized is deprecated. Please use tf.compat.v1.is_variable_initialized instead.\n",
            "\n",
            "WARNING:tensorflow:From /usr/local/lib/python3.6/dist-packages/keras/backend/tensorflow_backend.py:223: The name tf.variables_initializer is deprecated. Please use tf.compat.v1.variables_initializer instead.\n",
            "\n",
            "60000/60000 [==============================] - 12s 202us/step - loss: 0.1997 - acc: 0.9389 - val_loss: 0.0521 - val_acc: 0.9825\n",
            "Epoch 2/20\n",
            "60000/60000 [==============================] - 6s 92us/step - loss: 0.0452 - acc: 0.9868 - val_loss: 0.0489 - val_acc: 0.9849\n",
            "Epoch 3/20\n",
            "60000/60000 [==============================] - 5s 91us/step - loss: 0.0284 - acc: 0.9912 - val_loss: 0.0316 - val_acc: 0.9889\n",
            "Epoch 4/20\n",
            "60000/60000 [==============================] - 6s 92us/step - loss: 0.0196 - acc: 0.9941 - val_loss: 0.0331 - val_acc: 0.9898\n",
            "Epoch 5/20\n",
            "60000/60000 [==============================] - 6s 92us/step - loss: 0.0123 - acc: 0.9960 - val_loss: 0.0327 - val_acc: 0.9896\n",
            "Epoch 6/20\n",
            "60000/60000 [==============================] - 6s 92us/step - loss: 0.0084 - acc: 0.9976 - val_loss: 0.0355 - val_acc: 0.9895\n",
            "Epoch 7/20\n",
            "60000/60000 [==============================] - 5s 91us/step - loss: 0.0056 - acc: 0.9985 - val_loss: 0.0350 - val_acc: 0.9903\n",
            "Epoch 8/20\n",
            "60000/60000 [==============================] - 6s 93us/step - loss: 0.0039 - acc: 0.9989 - val_loss: 0.0350 - val_acc: 0.9910\n",
            "Epoch 9/20\n",
            "60000/60000 [==============================] - 6s 93us/step - loss: 0.0027 - acc: 0.9993 - val_loss: 0.0378 - val_acc: 0.9911\n",
            "Epoch 10/20\n",
            "60000/60000 [==============================] - 5s 90us/step - loss: 0.0022 - acc: 0.9995 - val_loss: 0.0388 - val_acc: 0.9906\n",
            "Epoch 11/20\n",
            "60000/60000 [==============================] - 6s 92us/step - loss: 0.0014 - acc: 0.9996 - val_loss: 0.0395 - val_acc: 0.9909\n",
            "Epoch 12/20\n",
            "60000/60000 [==============================] - 6s 92us/step - loss: 0.0010 - acc: 0.9998 - val_loss: 0.0395 - val_acc: 0.9912\n",
            "Epoch 13/20\n",
            "60000/60000 [==============================] - 5s 91us/step - loss: 7.5277e-04 - acc: 0.9999 - val_loss: 0.0432 - val_acc: 0.9915\n",
            "Epoch 14/20\n",
            "60000/60000 [==============================] - 5s 91us/step - loss: 4.0022e-04 - acc: 1.0000 - val_loss: 0.0425 - val_acc: 0.9919\n",
            "Epoch 15/20\n",
            "60000/60000 [==============================] - 5s 92us/step - loss: 3.5447e-04 - acc: 1.0000 - val_loss: 0.0437 - val_acc: 0.9918\n",
            "Epoch 16/20\n",
            "60000/60000 [==============================] - 5s 92us/step - loss: 3.0408e-04 - acc: 1.0000 - val_loss: 0.0447 - val_acc: 0.9919\n",
            "Epoch 17/20\n",
            "60000/60000 [==============================] - 6s 92us/step - loss: 2.9505e-04 - acc: 1.0000 - val_loss: 0.0460 - val_acc: 0.9918\n",
            "Epoch 18/20\n",
            "60000/60000 [==============================] - 5s 90us/step - loss: 2.8952e-04 - acc: 1.0000 - val_loss: 0.0463 - val_acc: 0.9916\n",
            "Epoch 19/20\n",
            "60000/60000 [==============================] - 6s 92us/step - loss: 2.8722e-04 - acc: 1.0000 - val_loss: 0.0462 - val_acc: 0.9920\n",
            "Epoch 20/20\n",
            "60000/60000 [==============================] - 5s 91us/step - loss: 2.8549e-04 - acc: 1.0000 - val_loss: 0.0470 - val_acc: 0.9918\n"
          ],
          "name": "stdout"
        }
      ]
    },
    {
      "cell_type": "code",
      "metadata": {
        "id": "FdAEe0lIsCFr",
        "colab_type": "code",
        "colab": {}
      },
      "source": [
        "def make_accuracy_plot(history):\n",
        "    \"\"\"\n",
        "    Funkcja zwraca wykres dokładności (accuracy) modelu na zbiorze treningowym\n",
        "    i walidacyjnym w bibliotece Keras.\n",
        "    \"\"\"\n",
        "    import matplotlib.pyplot as plt\n",
        "    import seaborn as sns\n",
        "    sns.set()\n",
        "    acc, val_acc = history.history['acc'], history.history['val_acc']\n",
        "    epochs = range(1, len(acc) + 1)\n",
        "\n",
        "    plt.figure(figsize=(10, 8))\n",
        "    plt.plot(epochs, acc, label='Dokładność trenowania', marker='o')\n",
        "    plt.plot(epochs, val_acc, label='Dokładność walidacji', marker='o')\n",
        "    plt.legend()\n",
        "    plt.title('Dokładność trenowania i walidacji')\n",
        "    plt.xlabel('Epoki')\n",
        "    plt.ylabel('Dokładność')\n",
        "    plt.show()\n",
        "\n",
        "\n",
        "def make_loss_plot(history):\n",
        "    \"\"\"\n",
        "    Funkcja zwraca wykres straty (loss) modelu na zbiorze treningowym\n",
        "    i walidacyjnym w bibliotece Keras.\n",
        "    \"\"\"\n",
        "    import matplotlib.pyplot as plt\n",
        "    import seaborn as sns\n",
        "    sns.set()\n",
        "    loss, val_loss = history.history['loss'], history.history['val_loss']\n",
        "    epochs = range(1, len(loss) + 1)\n",
        "    \n",
        "    plt.figure(figsize=(10, 8))\n",
        "    plt.plot(epochs, loss, label='Strata trenowania', marker='o')\n",
        "    plt.plot(epochs, val_loss, label='Strata walidacji', marker='o')\n",
        "    plt.legend()\n",
        "    plt.title('Strata trenowania i walidacji')\n",
        "    plt.xlabel('Epoki')\n",
        "    plt.ylabel('Strata')\n",
        "    plt.show()"
      ],
      "execution_count": 0,
      "outputs": []
    },
    {
      "cell_type": "code",
      "metadata": {
        "id": "ffr1nb80uSrw",
        "colab_type": "code",
        "colab": {
          "base_uri": "https://localhost:8080/",
          "height": 518
        },
        "outputId": "6a056e8e-e71f-4387-97c5-5d534b424070"
      },
      "source": [
        "make_accuracy_plot(history)"
      ],
      "execution_count": 15,
      "outputs": [
        {
          "output_type": "display_data",
          "data": {
            "image/png": "[encoded data removed]",
            "text/plain": [
              "<Figure size 720x576 with 1 Axes>"
            ]
          },
          "metadata": {
            "tags": []
          }
        }
      ]
    },
    {
      "cell_type": "code",
      "metadata": {
        "id": "S9A_rSXmvn2E",
        "colab_type": "code",
        "colab": {
          "base_uri": "https://localhost:8080/",
          "height": 518
        },
        "outputId": "59391dd5-7400-49b0-fc57-e70093a33cf7"
      },
      "source": [
        "make_loss_plot(history)"
      ],
      "execution_count": 16,
      "outputs": [
        {
          "output_type": "display_data",
          "data": {
            "image/png": "[encoded data removed]",
            "text/plain": [
              "<Figure size 720x576 with 1 Axes>"
            ]
          },
          "metadata": {
            "tags": []
          }
        }
      ]
    },
    {
      "cell_type": "code",
      "metadata": {
        "id": "25zz1SCfvqvQ",
        "colab_type": "code",
        "colab": {}
      },
      "source": [
        ""
      ],
      "execution_count": 0,
      "outputs": []
    }
  ]
}